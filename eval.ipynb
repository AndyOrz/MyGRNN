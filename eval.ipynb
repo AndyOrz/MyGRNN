{
 "metadata": {
  "language_info": {
   "codemirror_mode": {
    "name": "ipython",
    "version": 3
   },
   "file_extension": ".py",
   "mimetype": "text/x-python",
   "name": "python",
   "nbconvert_exporter": "python",
   "pygments_lexer": "ipython3",
   "version": "3.6.12-final"
  },
  "orig_nbformat": 2,
  "kernelspec": {
   "name": "python3",
   "display_name": "Python 3.6.12 64-bit ('mygrnn': conda)",
   "metadata": {
    "interpreter": {
     "hash": "44704d0489c39252fbf8577b8836ba7025e4068d7cee86aa2b53bf4e93d72c37"
    }
   }
  }
 },
 "nbformat": 4,
 "nbformat_minor": 2,
 "cells": [
  {
   "cell_type": "code",
   "execution_count": 1,
   "metadata": {},
   "outputs": [
    {
     "output_type": "stream",
     "name": "stderr",
     "text": [
      "Using backend: pytorch\n"
     ]
    }
   ],
   "source": [
    "import math\n",
    "import os\n",
    "from tqdm import tqdm\n",
    "\n",
    "from ray import tune\n",
    "import numpy as np\n",
    "import torch\n",
    "import torch.optim as optim\n",
    "from torch.optim import lr_scheduler\n",
    "from torch.nn.utils import clip_grad_norm\n",
    "from torch.utils.data import random_split\n",
    "\n",
    "from dataset.HighD_Dataset_DGL import HighD_Dataset\n",
    "from dgl.dataloading import GraphDataLoader\n",
    "from utils.util import AverageMeter"
   ]
  },
  {
   "cell_type": "code",
   "execution_count": 5,
   "metadata": {},
   "outputs": [],
   "source": [
    "def eval(model, val_dataloader, device):\n",
    "    losses = AverageMeter()\n",
    "    model.to(device)\n",
    "    model.eval()\n",
    "    criterion = MyLoss()\n",
    "\n",
    "    with tqdm(total=len(val_dataloader),desc='Validation round') as pbar:\n",
    "        for i, (graph, X, Y, _mask) in enumerate(val_dataloader):\n",
    "            # 先不采用batch训练\n",
    "            graph = graph.to(device)\n",
    "            X = X[0,...].to(device)\n",
    "            Y = Y[0,...].to(device)\n",
    "            # mask = mask[0,...].to(device)\n",
    "            if X.shape[1]==0:\n",
    "                continue\n",
    "\n",
    "            ###### 临时！ 测试用mask\n",
    "            mask = torch.ones_like(X,dtype=torch.uint8)  #[10,N,2]\n",
    "            mask[9,np.random.randint(mask.shape[1]),:]=0\n",
    "            mask = mask.to(device)\n",
    "\n",
    "            output = model(graph, X*mask)  #[1,N,2]\n",
    "            loss = criterion(output,Y,mask)\n",
    "\n",
    "            losses.update(loss.item())\n",
    "            pbar.set_description('Loss: {:.2f}'.format(loss.item()))\n",
    "            pbar.update()\n",
    "\n",
    "    return losses.avg"
   ]
  },
  {
   "cell_type": "code",
   "execution_count": 2,
   "metadata": {},
   "outputs": [
    {
     "output_type": "stream",
     "name": "stdout",
     "text": [
      "Dataset Ready!\n"
     ]
    }
   ],
   "source": [
    "HighD_dataset = HighD_Dataset(X_len=10,X_step=1,Y_len=1,Y_step=1,diff=9,name='data_02',raw_dir='./dataset/',preprocess_all=False)\n",
    "val_dataloader = GraphDataLoader(HighD_dataset, batch_size=1, shuffle=False)\n",
    "print(\"Dataset Ready!\")\n",
    "# device = 'cpu'\n",
    "# model = MyModel(num_feats=4, output_dim=4, hidden_size=64, num_layers=3,seq_len=10, horizon=1, device=device)\n",
    "# model.load_state_dict(torch.load('ckpts/0329_testgpu/CP_epoch15_loss_2.6713295542438136.pth'))\n",
    "# val_loss = eval(model, val_dataloader, device)\n",
    "# print('validation loss = {}'.format(val_loss))"
   ]
  },
  {
   "cell_type": "code",
   "execution_count": 3,
   "metadata": {},
   "outputs": [],
   "source": [
    "val_dataloader = GraphDataLoader(HighD_dataset, batch_size=4, shuffle=False)"
   ]
  },
  {
   "cell_type": "code",
   "execution_count": 4,
   "metadata": {},
   "outputs": [],
   "source": [
    "loader = enumerate(val_dataloader)"
   ]
  },
  {
   "cell_type": "code",
   "execution_count": 5,
   "metadata": {},
   "outputs": [],
   "source": [
    "i, (X, Y) = loader.__next__()"
   ]
  },
  {
   "cell_type": "code",
   "execution_count": 6,
   "metadata": {},
   "outputs": [
    {
     "output_type": "display_data",
     "data": {
      "text/plain": "<Figure size 432x288 with 1 Axes>",
      "image/svg+xml": "<?xml version=\"1.0\" encoding=\"utf-8\" standalone=\"no\"?>\r\n<!DOCTYPE svg PUBLIC \"-//W3C//DTD SVG 1.1//EN\"\r\n  \"http://www.w3.org/Graphics/SVG/1.1/DTD/svg11.dtd\">\r\n<!-- Created with matplotlib (https://matplotlib.org/) -->\r\n<svg height=\"302.4pt\" version=\"1.1\" viewBox=\"0 0 446.4 302.4\" width=\"446.4pt\" xmlns=\"http://www.w3.org/2000/svg\" xmlns:xlink=\"http://www.w3.org/1999/xlink\">\r\n <metadata>\r\n  <rdf:RDF xmlns:cc=\"http://creativecommons.org/ns#\" xmlns:dc=\"http://purl.org/dc/elements/1.1/\" xmlns:rdf=\"http://www.w3.org/1999/02/22-rdf-syntax-ns#\">\r\n   <cc:Work>\r\n    <dc:type rdf:resource=\"http://purl.org/dc/dcmitype/StillImage\"/>\r\n    <dc:date>2021-04-05T22:44:04.035809</dc:date>\r\n    <dc:format>image/svg+xml</dc:format>\r\n    <dc:creator>\r\n     <cc:Agent>\r\n      <dc:title>Matplotlib v3.3.4, https://matplotlib.org/</dc:title>\r\n     </cc:Agent>\r\n    </dc:creator>\r\n   </cc:Work>\r\n  </rdf:RDF>\r\n </metadata>\r\n <defs>\r\n  <style type=\"text/css\">*{stroke-linecap:butt;stroke-linejoin:round;}</style>\r\n </defs>\r\n <g id=\"figure_1\">\r\n  <g id=\"patch_1\">\r\n   <path d=\"M 0 302.4 \r\nL 446.4 302.4 \r\nL 446.4 0 \r\nL 0 0 \r\nz\r\n\" style=\"fill:#ffffff;\"/>\r\n  </g>\r\n  <g id=\"axes_1\">\r\n   <g id=\"patch_2\">\r\n    <path clip-path=\"url(#p9896567ef0)\" d=\"M 164.013012 261.814608 \r\nQ 164.844406 258.553644 165.39959 256.376059 \r\n\" style=\"fill:none;stroke:#000000;stroke-linecap:round;\"/>\r\n    <path clip-path=\"url(#p9896567ef0)\" d=\"M 162.473381 259.757968 \r\nL 165.39959 256.376059 \r\nL 166.349392 260.746171 \r\nL 162.473381 259.757968 \r\nz\r\n\" style=\"stroke:#000000;stroke-linecap:round;\"/>\r\n   </g>\r\n   <g id=\"patch_3\">\r\n    <path clip-path=\"url(#p9896567ef0)\" d=\"M 155.498697 264.343376 \r\nQ 155.263047 264.126559 155.850161 264.666751 \r\n\" style=\"fill:none;stroke:#000000;stroke-linecap:round;\"/>\r\n    <path clip-path=\"url(#p9896567ef0)\" d=\"M 157.439589 268.846908 \r\nL 155.850161 264.666751 \r\nL 160.147944 265.903302 \r\nL 157.439589 268.846908 \r\nz\r\n\" style=\"stroke:#000000;stroke-linecap:round;\"/>\r\n   </g>\r\n   <g id=\"patch_4\">\r\n    <path clip-path=\"url(#p9896567ef0)\" d=\"M 163.535807 263.686338 \r\nQ 162.704412 266.947301 162.149229 269.124887 \r\n\" style=\"fill:none;stroke:#000000;stroke-linecap:round;\"/>\r\n    <path clip-path=\"url(#p9896567ef0)\" d=\"M 165.075437 265.742978 \r\nL 162.149229 269.124887 \r\nL 161.199427 264.754775 \r\nL 165.075437 265.742978 \r\nz\r\n\" style=\"stroke:#000000;stroke-linecap:round;\"/>\r\n   </g>\r\n   <g id=\"patch_5\">\r\n    <path clip-path=\"url(#p9896567ef0)\" d=\"M 157.127077 256.674853 \r\nQ 152.890119 257.359892 149.756862 257.866482 \r\n\" style=\"fill:none;stroke:#000000;stroke-linecap:round;\"/>\r\n    <path clip-path=\"url(#p9896567ef0)\" d=\"M 154.024801 259.202407 \r\nL 149.756862 257.866482 \r\nL 153.386365 255.253686 \r\nL 154.024801 259.202407 \r\nz\r\n\" style=\"stroke:#000000;stroke-linecap:round;\"/>\r\n   </g>\r\n   <g id=\"patch_6\">\r\n    <path clip-path=\"url(#p9896567ef0)\" d=\"M 158.009972 251.262312 \r\nQ 156.438389 250.43604 155.856402 250.130056 \r\n\" style=\"fill:none;stroke:#000000;stroke-linecap:round;\"/>\r\n    <path clip-path=\"url(#p9896567ef0)\" d=\"M 158.46617 253.761738 \r\nL 155.856402 250.130056 \r\nL 160.327609 250.221251 \r\nL 158.46617 253.761738 \r\nz\r\n\" style=\"stroke:#000000;stroke-linecap:round;\"/>\r\n   </g>\r\n   <g id=\"patch_7\">\r\n    <path clip-path=\"url(#p9896567ef0)\" d=\"M 155.027481 263.909819 \r\nQ 155.263131 264.126636 154.676017 263.586444 \r\n\" style=\"fill:none;stroke:#000000;stroke-linecap:round;\"/>\r\n    <path clip-path=\"url(#p9896567ef0)\" d=\"M 153.086589 259.406287 \r\nL 154.676017 263.586444 \r\nL 150.378234 262.349893 \r\nL 153.086589 259.406287 \r\nz\r\n\" style=\"stroke:#000000;stroke-linecap:round;\"/>\r\n   </g>\r\n   <g id=\"patch_8\">\r\n    <path clip-path=\"url(#p9896567ef0)\" d=\"M 157.201884 256.662759 \r\nQ 161.438842 255.97772 164.5721 255.47113 \r\n\" style=\"fill:none;stroke:#000000;stroke-linecap:round;\"/>\r\n    <path clip-path=\"url(#p9896567ef0)\" d=\"M 160.304161 254.135205 \r\nL 164.5721 255.47113 \r\nL 160.942596 258.083926 \r\nL 160.304161 254.135205 \r\nz\r\n\" style=\"stroke:#000000;stroke-linecap:round;\"/>\r\n   </g>\r\n   <g id=\"patch_9\">\r\n    <path clip-path=\"url(#p9896567ef0)\" d=\"M 147.650367 249.441129 \r\nQ 147.425297 247.510067 147.329661 246.689521 \r\n\" style=\"fill:none;stroke:#000000;stroke-linecap:round;\"/>\r\n    <path clip-path=\"url(#p9896567ef0)\" d=\"M 145.806183 250.894164 \r\nL 147.329661 246.689521 \r\nL 149.779288 250.431089 \r\nL 145.806183 250.894164 \r\nz\r\n\" style=\"stroke:#000000;stroke-linecap:round;\"/>\r\n   </g>\r\n   <g id=\"patch_10\">\r\n    <path clip-path=\"url(#p9896567ef0)\" d=\"M 154.866057 249.609374 \r\nQ 156.43764 250.435646 157.019626 250.74163 \r\n\" style=\"fill:none;stroke:#000000;stroke-linecap:round;\"/>\r\n    <path clip-path=\"url(#p9896567ef0)\" d=\"M 154.409859 247.109948 \r\nL 157.019626 250.74163 \r\nL 152.54842 250.650435 \r\nL 154.409859 247.109948 \r\nz\r\n\" style=\"stroke:#000000;stroke-linecap:round;\"/>\r\n   </g>\r\n   <g id=\"patch_11\">\r\n    <path clip-path=\"url(#p9896567ef0)\" d=\"M 148.203021 254.182807 \r\nQ 148.428091 256.113869 148.523727 256.934414 \r\n\" style=\"fill:none;stroke:#000000;stroke-linecap:round;\"/>\r\n    <path clip-path=\"url(#p9896567ef0)\" d=\"M 150.047205 252.729772 \r\nL 148.523727 256.934414 \r\nL 146.0741 253.192847 \r\nL 150.047205 252.729772 \r\nz\r\n\" style=\"stroke:#000000;stroke-linecap:round;\"/>\r\n   </g>\r\n   <g id=\"patch_12\">\r\n    <path clip-path=\"url(#p9896567ef0)\" d=\"M 391.519106 223.833999 \r\nQ 391.550327 223.539809 391.463559 224.357411 \r\n\" style=\"fill:none;stroke:#000000;stroke-linecap:round;\"/>\r\n    <path clip-path=\"url(#p9896567ef0)\" d=\"M 389.052597 228.124009 \r\nL 391.463559 224.357411 \r\nL 393.03026 228.546139 \r\nL 389.052597 228.124009 \r\nz\r\n\" style=\"stroke:#000000;stroke-linecap:round;\"/>\r\n   </g>\r\n   <g id=\"patch_13\">\r\n    <path clip-path=\"url(#p9896567ef0)\" d=\"M 397.305682 226.967393 \r\nQ 399.50904 225.164737 400.847069 224.07004 \r\n\" style=\"fill:none;stroke:#000000;stroke-linecap:round;\"/>\r\n    <path clip-path=\"url(#p9896567ef0)\" d=\"M 396.48474 225.05497 \r\nL 400.847069 224.07004 \r\nL 399.017615 228.150861 \r\nL 396.48474 225.05497 \r\nz\r\n\" style=\"stroke:#000000;stroke-linecap:round;\"/>\r\n   </g>\r\n   <g id=\"patch_14\">\r\n    <path clip-path=\"url(#p9896567ef0)\" d=\"M 391.580954 223.251211 \r\nQ 391.549733 223.545401 391.636501 222.7278 \r\n\" style=\"fill:none;stroke:#000000;stroke-linecap:round;\"/>\r\n    <path clip-path=\"url(#p9896567ef0)\" d=\"M 394.047463 218.961201 \r\nL 391.636501 222.7278 \r\nL 390.0698 218.539071 \r\nL 394.047463 218.961201 \r\nz\r\n\" style=\"stroke:#000000;stroke-linecap:round;\"/>\r\n   </g>\r\n   <g id=\"patch_15\">\r\n    <path clip-path=\"url(#p9896567ef0)\" d=\"M 398.784797 220.59029 \r\nQ 400.248597 221.976185 400.900518 222.593411 \r\n\" style=\"fill:none;stroke:#000000;stroke-linecap:round;\"/>\r\n    <path clip-path=\"url(#p9896567ef0)\" d=\"M 399.370891 218.391002 \r\nL 400.900518 222.593411 \r\nL 396.620815 221.295667 \r\nL 399.370891 218.391002 \r\nz\r\n\" style=\"stroke:#000000;stroke-linecap:round;\"/>\r\n   </g>\r\n   <g id=\"patch_16\">\r\n    <path clip-path=\"url(#p9896567ef0)\" d=\"M 384.112683 216.82252 \r\nQ 381.345095 217.544576 379.65933 217.984387 \r\n\" style=\"fill:none;stroke:#000000;stroke-linecap:round;\"/>\r\n    <path clip-path=\"url(#p9896567ef0)\" d=\"M 384.034666 218.909821 \r\nL 379.65933 217.984387 \r\nL 383.024879 215.039378 \r\nL 384.034666 218.909821 \r\nz\r\n\" style=\"stroke:#000000;stroke-linecap:round;\"/>\r\n   </g>\r\n   <g id=\"patch_17\">\r\n    <path clip-path=\"url(#p9896567ef0)\" d=\"M 395.011479 228.844375 \r\nQ 392.808122 230.647032 391.470093 231.741728 \r\n\" style=\"fill:none;stroke:#000000;stroke-linecap:round;\"/>\r\n    <path clip-path=\"url(#p9896567ef0)\" d=\"M 395.832422 230.756798 \r\nL 391.470093 231.741728 \r\nL 393.299546 227.660907 \r\nL 395.832422 230.756798 \r\nz\r\n\" style=\"stroke:#000000;stroke-linecap:round;\"/>\r\n   </g>\r\n   <g id=\"patch_18\">\r\n    <path clip-path=\"url(#p9896567ef0)\" d=\"M 395.422895 217.407312 \r\nQ 393.959095 216.021417 393.307174 215.404192 \r\n\" style=\"fill:none;stroke:#000000;stroke-linecap:round;\"/>\r\n    <path clip-path=\"url(#p9896567ef0)\" d=\"M 394.836801 219.606601 \r\nL 393.307174 215.404192 \r\nL 397.586877 216.701935 \r\nL 394.836801 219.606601 \r\nz\r\n\" style=\"stroke:#000000;stroke-linecap:round;\"/>\r\n   </g>\r\n   <g id=\"patch_19\">\r\n    <path clip-path=\"url(#p9896567ef0)\" d=\"M 393.254268 221.499181 \r\nQ 390.145848 220.814553 388.129292 220.370407 \r\n\" style=\"fill:none;stroke:#000000;stroke-linecap:round;\"/>\r\n    <path clip-path=\"url(#p9896567ef0)\" d=\"M 391.605476 223.183971 \r\nL 388.129292 220.370407 \r\nL 392.465854 219.277598 \r\nL 391.605476 223.183971 \r\nz\r\n\" style=\"stroke:#000000;stroke-linecap:round;\"/>\r\n   </g>\r\n   <g id=\"patch_20\">\r\n    <path clip-path=\"url(#p9896567ef0)\" d=\"M 386.960121 216.079632 \r\nQ 389.727708 215.357577 391.413474 214.917766 \r\n\" style=\"fill:none;stroke:#000000;stroke-linecap:round;\"/>\r\n    <path clip-path=\"url(#p9896567ef0)\" d=\"M 387.038137 213.992332 \r\nL 391.413474 214.917766 \r\nL 388.047924 217.862775 \r\nL 387.038137 213.992332 \r\nz\r\n\" style=\"stroke:#000000;stroke-linecap:round;\"/>\r\n   </g>\r\n   <g id=\"patch_21\">\r\n    <path clip-path=\"url(#p9896567ef0)\" d=\"M 387.035637 220.12953 \r\nQ 390.144057 220.814158 392.160613 221.258304 \r\n\" style=\"fill:none;stroke:#000000;stroke-linecap:round;\"/>\r\n    <path clip-path=\"url(#p9896567ef0)\" d=\"M 388.684428 218.44474 \r\nL 392.160613 221.258304 \r\nL 387.824051 222.351113 \r\nL 388.684428 218.44474 \r\nz\r\n\" style=\"stroke:#000000;stroke-linecap:round;\"/>\r\n   </g>\r\n   <g id=\"patch_22\">\r\n    <path clip-path=\"url(#p9896567ef0)\" d=\"M 52.462279 116.264868 \r\nQ 53.54897 115.731058 53.632165 115.690191 \r\n\" style=\"fill:none;stroke:#000000;stroke-linecap:round;\"/>\r\n    <path clip-path=\"url(#p9896567ef0)\" d=\"M 49.16014 115.658687 \r\nL 53.632165 115.690191 \r\nL 50.923747 119.248909 \r\nL 49.16014 115.658687 \r\nz\r\n\" style=\"stroke:#000000;stroke-linecap:round;\"/>\r\n   </g>\r\n   <g id=\"patch_23\">\r\n    <path clip-path=\"url(#p9896567ef0)\" d=\"M 53.250223 121.374276 \r\nQ 56.146421 121.810701 57.937067 122.080531 \r\n\" style=\"fill:none;stroke:#000000;stroke-linecap:round;\"/>\r\n    <path clip-path=\"url(#p9896567ef0)\" d=\"M 54.279735 119.506832 \r\nL 57.937067 122.080531 \r\nL 53.683708 123.462177 \r\nL 54.279735 119.506832 \r\nz\r\n\" style=\"stroke:#000000;stroke-linecap:round;\"/>\r\n   </g>\r\n   <g id=\"patch_24\">\r\n    <path clip-path=\"url(#p9896567ef0)\" d=\"M 54.634169 115.197981 \r\nQ 53.547478 115.731791 53.464284 115.772658 \r\n\" style=\"fill:none;stroke:#000000;stroke-linecap:round;\"/>\r\n    <path clip-path=\"url(#p9896567ef0)\" d=\"M 57.936309 115.804162 \r\nL 53.464284 115.772658 \r\nL 56.172702 112.213941 \r\nL 57.936309 115.804162 \r\nz\r\n\" style=\"stroke:#000000;stroke-linecap:round;\"/>\r\n   </g>\r\n   <g id=\"patch_25\">\r\n    <path clip-path=\"url(#p9896567ef0)\" d=\"M 65.811372 119.342883 \r\nQ 66.707342 121.440005 67.164054 122.508996 \r\n\" style=\"fill:none;stroke:#000000;stroke-linecap:round;\"/>\r\n    <path clip-path=\"url(#p9896567ef0)\" d=\"M 67.431701 118.044876 \r\nL 67.164054 122.508996 \r\nL 63.753346 119.616407 \r\nL 67.431701 118.044876 \r\nz\r\n\" style=\"stroke:#000000;stroke-linecap:round;\"/>\r\n   </g>\r\n   <g id=\"patch_26\">\r\n    <path clip-path=\"url(#p9896567ef0)\" d=\"M 70.944692 112.849869 \r\nQ 74.266252 113.422282 76.486019 113.80482 \r\n\" style=\"fill:none;stroke:#000000;stroke-linecap:round;\"/>\r\n    <path clip-path=\"url(#p9896567ef0)\" d=\"M 72.883783 111.154556 \r\nL 76.486019 113.80482 \r\nL 72.204467 115.09645 \r\nL 72.883783 111.154556 \r\nz\r\n\" style=\"stroke:#000000;stroke-linecap:round;\"/>\r\n   </g>\r\n   <g id=\"patch_27\">\r\n    <path clip-path=\"url(#p9896567ef0)\" d=\"M 59.040691 122.246835 \r\nQ 56.144493 121.81041 54.353848 121.54058 \r\n\" style=\"fill:none;stroke:#000000;stroke-linecap:round;\"/>\r\n    <path clip-path=\"url(#p9896567ef0)\" d=\"M 58.011179 124.114279 \r\nL 54.353848 121.54058 \r\nL 58.607206 120.158934 \r\nL 58.011179 124.114279 \r\nz\r\n\" style=\"stroke:#000000;stroke-linecap:round;\"/>\r\n   </g>\r\n   <g id=\"patch_28\">\r\n    <path clip-path=\"url(#p9896567ef0)\" d=\"M 64.200784 115.573109 \r\nQ 63.304814 113.475987 62.848101 112.406996 \r\n\" style=\"fill:none;stroke:#000000;stroke-linecap:round;\"/>\r\n    <path clip-path=\"url(#p9896567ef0)\" d=\"M 62.580455 116.871116 \r\nL 62.848101 112.406996 \r\nL 66.258809 115.299585 \r\nL 62.580455 116.871116 \r\nz\r\n\" style=\"stroke:#000000;stroke-linecap:round;\"/>\r\n   </g>\r\n   <g id=\"patch_29\">\r\n    <path clip-path=\"url(#p9896567ef0)\" d=\"M 75.546352 120.074613 \r\nQ 76.864248 119.500119 77.157254 119.372392 \r\n\" style=\"fill:none;stroke:#000000;stroke-linecap:round;\"/>\r\n    <path clip-path=\"url(#p9896567ef0)\" d=\"M 72.691295 119.137419 \r\nL 77.157254 119.372392 \r\nL 74.2897 122.804175 \r\nL 72.691295 119.137419 \r\nz\r\n\" style=\"stroke:#000000;stroke-linecap:round;\"/>\r\n   </g>\r\n   <g id=\"patch_30\">\r\n    <path clip-path=\"url(#p9896567ef0)\" d=\"M 77.58465 113.994149 \r\nQ 74.26309 113.421737 72.043323 113.039199 \r\n\" style=\"fill:none;stroke:#000000;stroke-linecap:round;\"/>\r\n    <path clip-path=\"url(#p9896567ef0)\" d=\"M 75.645559 115.689462 \r\nL 72.043323 113.039199 \r\nL 76.324875 111.747568 \r\nL 75.645559 115.689462 \r\nz\r\n\" style=\"stroke:#000000;stroke-linecap:round;\"/>\r\n   </g>\r\n   <g id=\"patch_31\">\r\n    <path clip-path=\"url(#p9896567ef0)\" d=\"M 78.177456 118.927667 \r\nQ 76.85956 119.502162 76.566554 119.629889 \r\n\" style=\"fill:none;stroke:#000000;stroke-linecap:round;\"/>\r\n    <path clip-path=\"url(#p9896567ef0)\" d=\"M 81.032513 119.864862 \r\nL 76.566554 119.629889 \r\nL 79.434108 116.198106 \r\nL 81.032513 119.864862 \r\nz\r\n\" style=\"stroke:#000000;stroke-linecap:round;\"/>\r\n   </g>\r\n   <g id=\"patch_32\">\r\n    <path clip-path=\"url(#p9896567ef0)\" d=\"M 227.612613 33.289611 \r\nQ 231.003506 33.722912 233.285384 34.014499 \r\n\" style=\"fill:none;stroke:#000000;stroke-linecap:round;\"/>\r\n    <path clip-path=\"url(#p9896567ef0)\" d=\"M 229.571153 31.523618 \r\nL 233.285384 34.014499 \r\nL 229.064141 35.491355 \r\nL 229.571153 31.523618 \r\nz\r\n\" style=\"stroke:#000000;stroke-linecap:round;\"/>\r\n   </g>\r\n   <g id=\"patch_33\">\r\n    <path clip-path=\"url(#p9896567ef0)\" d=\"M 225.147585 38.307638 \r\nQ 227.53253 40.688405 229.126212 42.279296 \r\n\" style=\"fill:none;stroke:#000000;stroke-linecap:round;\"/>\r\n    <path clip-path=\"url(#p9896567ef0)\" d=\"M 227.70828 38.037897 \r\nL 229.126212 42.279296 \r\nL 224.882333 40.868803 \r\nL 227.70828 38.037897 \r\nz\r\n\" style=\"stroke:#000000;stroke-linecap:round;\"/>\r\n   </g>\r\n   <g id=\"patch_34\">\r\n    <path clip-path=\"url(#p9896567ef0)\" d=\"M 234.393502 34.156099 \r\nQ 231.002609 33.722797 228.720731 33.43121 \r\n\" style=\"fill:none;stroke:#000000;stroke-linecap:round;\"/>\r\n    <path clip-path=\"url(#p9896567ef0)\" d=\"M 232.434962 35.922091 \r\nL 228.720731 33.43121 \r\nL 232.941975 31.954354 \r\nL 232.434962 35.922091 \r\nz\r\n\" style=\"stroke:#000000;stroke-linecap:round;\"/>\r\n   </g>\r\n   <g id=\"patch_35\">\r\n    <path clip-path=\"url(#p9896567ef0)\" d=\"M 235.55483 39.697723 \r\nQ 232.736152 41.383448 230.877003 42.495322 \r\n\" style=\"fill:none;stroke:#000000;stroke-linecap:round;\"/>\r\n    <path clip-path=\"url(#p9896567ef0)\" d=\"M 235.336452 42.158707 \r\nL 230.877003 42.495322 \r\nL 233.283381 38.725793 \r\nL 235.336452 42.158707 \r\nz\r\n\" style=\"stroke:#000000;stroke-linecap:round;\"/>\r\n   </g>\r\n   <g id=\"patch_36\">\r\n    <path clip-path=\"url(#p9896567ef0)\" d=\"M 244.50803 43.781285 \r\nQ 245.264275 48.015894 245.823963 51.149882 \r\n\" style=\"fill:none;stroke:#000000;stroke-linecap:round;\"/>\r\n    <path clip-path=\"url(#p9896567ef0)\" d=\"M 247.089592 46.860572 \r\nL 245.823963 51.149882 \r\nL 243.151892 47.563793 \r\nL 247.089592 46.860572 \r\nz\r\n\" style=\"stroke:#000000;stroke-linecap:round;\"/>\r\n   </g>\r\n   <g id=\"patch_37\">\r\n    <path clip-path=\"url(#p9896567ef0)\" d=\"M 223.79084 36.95327 \r\nQ 221.405895 34.572503 219.812212 32.981612 \r\n\" style=\"fill:none;stroke:#000000;stroke-linecap:round;\"/>\r\n    <path clip-path=\"url(#p9896567ef0)\" d=\"M 221.230144 37.223011 \r\nL 219.812212 32.981612 \r\nL 224.056091 34.392106 \r\nL 221.230144 37.223011 \r\nz\r\n\" style=\"stroke:#000000;stroke-linecap:round;\"/>\r\n   </g>\r\n   <g id=\"patch_38\">\r\n    <path clip-path=\"url(#p9896567ef0)\" d=\"M 237.347809 38.625423 \r\nQ 240.166487 36.939698 242.025636 35.827825 \r\n\" style=\"fill:none;stroke:#000000;stroke-linecap:round;\"/>\r\n    <path clip-path=\"url(#p9896567ef0)\" d=\"M 237.566187 36.164439 \r\nL 242.025636 35.827825 \r\nL 239.619258 39.597353 \r\nL 237.566187 36.164439 \r\nz\r\n\" style=\"stroke:#000000;stroke-linecap:round;\"/>\r\n   </g>\r\n   <g id=\"patch_39\">\r\n    <path clip-path=\"url(#p9896567ef0)\" d=\"M 237.438257 47.35723 \r\nQ 237.968363 47.659476 237.527213 47.40795 \r\n\" style=\"fill:none;stroke:#000000;stroke-linecap:round;\"/>\r\n    <path clip-path=\"url(#p9896567ef0)\" d=\"M 235.042962 43.689281 \r\nL 237.527213 47.40795 \r\nL 233.061727 47.164149 \r\nL 235.042962 43.689281 \r\nz\r\n\" style=\"stroke:#000000;stroke-linecap:round;\"/>\r\n   </g>\r\n   <g id=\"patch_40\">\r\n    <path clip-path=\"url(#p9896567ef0)\" d=\"M 244.497655 43.723191 \r\nQ 243.74141 39.488583 243.181721 36.354594 \r\n\" style=\"fill:none;stroke:#000000;stroke-linecap:round;\"/>\r\n    <path clip-path=\"url(#p9896567ef0)\" d=\"M 241.916092 40.643905 \r\nL 243.181721 36.354594 \r\nL 245.853792 39.940684 \r\nL 241.916092 40.643905 \r\nz\r\n\" style=\"stroke:#000000;stroke-linecap:round;\"/>\r\n   </g>\r\n   <g id=\"patch_41\">\r\n    <path clip-path=\"url(#p9896567ef0)\" d=\"M 238.499737 47.962445 \r\nQ 237.969631 47.660199 238.410781 47.911726 \r\n\" style=\"fill:none;stroke:#000000;stroke-linecap:round;\"/>\r\n    <path clip-path=\"url(#p9896567ef0)\" d=\"M 240.895032 51.630394 \r\nL 238.410781 47.911726 \r\nL 242.876267 48.155526 \r\nL 240.895032 51.630394 \r\nz\r\n\" style=\"stroke:#000000;stroke-linecap:round;\"/>\r\n   </g>\r\n   <g id=\"PathCollection_1\">\r\n    <defs>\r\n     <path d=\"M 0 8.660254 \r\nC 2.296726 8.660254 4.499694 7.747755 6.123724 6.123724 \r\nC 7.747755 4.499694 8.660254 2.296726 8.660254 0 \r\nC 8.660254 -2.296726 7.747755 -4.499694 6.123724 -6.123724 \r\nC 4.499694 -7.747755 2.296726 -8.660254 0 -8.660254 \r\nC -2.296726 -8.660254 -4.499694 -7.747755 -6.123724 -6.123724 \r\nC -7.747755 -4.499694 -8.660254 -2.296726 -8.660254 0 \r\nC -8.660254 2.296726 -7.747755 4.499694 -6.123724 6.123724 \r\nC -4.499694 7.747755 -2.296726 8.660254 0 8.660254 \r\nz\r\n\" id=\"m828ebe8dc8\" style=\"stroke:#1f78b4;\"/>\r\n    </defs>\r\n    <g clip-path=\"url(#p9896567ef0)\">\r\n     <use style=\"fill:#1f78b4;stroke:#1f78b4;\" x=\"161.873018\" xlink:href=\"#m828ebe8dc8\" y=\"270.208264\"/>\r\n     <use style=\"fill:#1f78b4;stroke:#1f78b4;\" x=\"165.675801\" xlink:href=\"#m828ebe8dc8\" y=\"255.292681\"/>\r\n     <use style=\"fill:#1f78b4;stroke:#1f78b4;\" x=\"148.653161\" xlink:href=\"#m828ebe8dc8\" y=\"258.044931\"/>\r\n     <use style=\"fill:#1f78b4;stroke:#1f78b4;\" x=\"147.200228\" xlink:href=\"#m828ebe8dc8\" y=\"245.579005\"/>\r\n     <use style=\"fill:#1f78b4;stroke:#1f78b4;\" x=\"390.604765\" xlink:href=\"#m828ebe8dc8\" y=\"232.449688\"/>\r\n     <use style=\"fill:#1f78b4;stroke:#1f78b4;\" x=\"392.495295\" xlink:href=\"#m828ebe8dc8\" y=\"214.635522\"/>\r\n     <use style=\"fill:#1f78b4;stroke:#1f78b4;\" x=\"401.712397\" xlink:href=\"#m828ebe8dc8\" y=\"223.36208\"/>\r\n     <use style=\"fill:#1f78b4;stroke:#1f78b4;\" x=\"378.577508\" xlink:href=\"#m828ebe8dc8\" y=\"218.266631\"/>\r\n     <use style=\"fill:#1f78b4;stroke:#1f78b4;\" x=\"44.687603\" xlink:href=\"#m828ebe8dc8\" y=\"120.083985\"/>\r\n     <use style=\"fill:#1f78b4;stroke:#1f78b4;\" x=\"62.408845\" xlink:href=\"#m828ebe8dc8\" y=\"111.378865\"/>\r\n     <use style=\"fill:#1f78b4;stroke:#1f78b4;\" x=\"67.603311\" xlink:href=\"#m828ebe8dc8\" y=\"123.537127\"/>\r\n     <use style=\"fill:#1f78b4;stroke:#1f78b4;\" x=\"86.120497\" xlink:href=\"#m828ebe8dc8\" y=\"115.465153\"/>\r\n     <use style=\"fill:#1f78b4;stroke:#1f78b4;\" x=\"219.02095\" xlink:href=\"#m828ebe8dc8\" y=\"32.191736\"/>\r\n     <use style=\"fill:#1f78b4;stroke:#1f78b4;\" x=\"242.985165\" xlink:href=\"#m828ebe8dc8\" y=\"35.253974\"/>\r\n     <use style=\"fill:#1f78b4;stroke:#1f78b4;\" x=\"229.917474\" xlink:href=\"#m828ebe8dc8\" y=\"43.069173\"/>\r\n     <use style=\"fill:#1f78b4;stroke:#1f78b4;\" x=\"246.02052\" xlink:href=\"#m828ebe8dc8\" y=\"52.250503\"/>\r\n    </g>\r\n   </g>\r\n   <g id=\"text_1\">\r\n    <g clip-path=\"url(#p9896567ef0)\">\r\n     <!-- 0 -->\r\n     <g transform=\"translate(158.055518 273.519514)scale(0.12 -0.12)\">\r\n      <defs>\r\n       <path d=\"M 31.78125 66.40625 \r\nQ 24.171875 66.40625 20.328125 58.90625 \r\nQ 16.5 51.421875 16.5 36.375 \r\nQ 16.5 21.390625 20.328125 13.890625 \r\nQ 24.171875 6.390625 31.78125 6.390625 \r\nQ 39.453125 6.390625 43.28125 13.890625 \r\nQ 47.125 21.390625 47.125 36.375 \r\nQ 47.125 51.421875 43.28125 58.90625 \r\nQ 39.453125 66.40625 31.78125 66.40625 \r\nz\r\nM 31.78125 74.21875 \r\nQ 44.046875 74.21875 50.515625 64.515625 \r\nQ 56.984375 54.828125 56.984375 36.375 \r\nQ 56.984375 17.96875 50.515625 8.265625 \r\nQ 44.046875 -1.421875 31.78125 -1.421875 \r\nQ 19.53125 -1.421875 13.0625 8.265625 \r\nQ 6.59375 17.96875 6.59375 36.375 \r\nQ 6.59375 54.828125 13.0625 64.515625 \r\nQ 19.53125 74.21875 31.78125 74.21875 \r\nz\r\n\" id=\"DejaVuSans-48\"/>\r\n      </defs>\r\n      <use xlink:href=\"#DejaVuSans-48\"/>\r\n     </g>\r\n    </g>\r\n   </g>\r\n   <g id=\"text_2\">\r\n    <g clip-path=\"url(#p9896567ef0)\">\r\n     <!-- 1 -->\r\n     <g transform=\"translate(161.858301 258.603931)scale(0.12 -0.12)\">\r\n      <defs>\r\n       <path d=\"M 12.40625 8.296875 \r\nL 28.515625 8.296875 \r\nL 28.515625 63.921875 \r\nL 10.984375 60.40625 \r\nL 10.984375 69.390625 \r\nL 28.421875 72.90625 \r\nL 38.28125 72.90625 \r\nL 38.28125 8.296875 \r\nL 54.390625 8.296875 \r\nL 54.390625 0 \r\nL 12.40625 0 \r\nz\r\n\" id=\"DejaVuSans-49\"/>\r\n      </defs>\r\n      <use xlink:href=\"#DejaVuSans-49\"/>\r\n     </g>\r\n    </g>\r\n   </g>\r\n   <g id=\"text_3\">\r\n    <g clip-path=\"url(#p9896567ef0)\">\r\n     <!-- 2 -->\r\n     <g transform=\"translate(144.835661 261.356181)scale(0.12 -0.12)\">\r\n      <defs>\r\n       <path d=\"M 19.1875 8.296875 \r\nL 53.609375 8.296875 \r\nL 53.609375 0 \r\nL 7.328125 0 \r\nL 7.328125 8.296875 \r\nQ 12.9375 14.109375 22.625 23.890625 \r\nQ 32.328125 33.6875 34.8125 36.53125 \r\nQ 39.546875 41.84375 41.421875 45.53125 \r\nQ 43.3125 49.21875 43.3125 52.78125 \r\nQ 43.3125 58.59375 39.234375 62.25 \r\nQ 35.15625 65.921875 28.609375 65.921875 \r\nQ 23.96875 65.921875 18.8125 64.3125 \r\nQ 13.671875 62.703125 7.8125 59.421875 \r\nL 7.8125 69.390625 \r\nQ 13.765625 71.78125 18.9375 73 \r\nQ 24.125 74.21875 28.421875 74.21875 \r\nQ 39.75 74.21875 46.484375 68.546875 \r\nQ 53.21875 62.890625 53.21875 53.421875 \r\nQ 53.21875 48.921875 51.53125 44.890625 \r\nQ 49.859375 40.875 45.40625 35.40625 \r\nQ 44.1875 33.984375 37.640625 27.21875 \r\nQ 31.109375 20.453125 19.1875 8.296875 \r\nz\r\n\" id=\"DejaVuSans-50\"/>\r\n      </defs>\r\n      <use xlink:href=\"#DejaVuSans-50\"/>\r\n     </g>\r\n    </g>\r\n   </g>\r\n   <g id=\"text_4\">\r\n    <g clip-path=\"url(#p9896567ef0)\">\r\n     <!-- 3 -->\r\n     <g transform=\"translate(143.382728 248.890255)scale(0.12 -0.12)\">\r\n      <defs>\r\n       <path d=\"M 40.578125 39.3125 \r\nQ 47.65625 37.796875 51.625 33 \r\nQ 55.609375 28.21875 55.609375 21.1875 \r\nQ 55.609375 10.40625 48.1875 4.484375 \r\nQ 40.765625 -1.421875 27.09375 -1.421875 \r\nQ 22.515625 -1.421875 17.65625 -0.515625 \r\nQ 12.796875 0.390625 7.625 2.203125 \r\nL 7.625 11.71875 \r\nQ 11.71875 9.328125 16.59375 8.109375 \r\nQ 21.484375 6.890625 26.8125 6.890625 \r\nQ 36.078125 6.890625 40.9375 10.546875 \r\nQ 45.796875 14.203125 45.796875 21.1875 \r\nQ 45.796875 27.640625 41.28125 31.265625 \r\nQ 36.765625 34.90625 28.71875 34.90625 \r\nL 20.21875 34.90625 \r\nL 20.21875 43.015625 \r\nL 29.109375 43.015625 \r\nQ 36.375 43.015625 40.234375 45.921875 \r\nQ 44.09375 48.828125 44.09375 54.296875 \r\nQ 44.09375 59.90625 40.109375 62.90625 \r\nQ 36.140625 65.921875 28.71875 65.921875 \r\nQ 24.65625 65.921875 20.015625 65.03125 \r\nQ 15.375 64.15625 9.8125 62.3125 \r\nL 9.8125 71.09375 \r\nQ 15.4375 72.65625 20.34375 73.4375 \r\nQ 25.25 74.21875 29.59375 74.21875 \r\nQ 40.828125 74.21875 47.359375 69.109375 \r\nQ 53.90625 64.015625 53.90625 55.328125 \r\nQ 53.90625 49.265625 50.4375 45.09375 \r\nQ 46.96875 40.921875 40.578125 39.3125 \r\nz\r\n\" id=\"DejaVuSans-51\"/>\r\n      </defs>\r\n      <use xlink:href=\"#DejaVuSans-51\"/>\r\n     </g>\r\n    </g>\r\n   </g>\r\n   <g id=\"text_5\">\r\n    <g clip-path=\"url(#p9896567ef0)\">\r\n     <!-- 4 -->\r\n     <g transform=\"translate(386.787265 235.760938)scale(0.12 -0.12)\">\r\n      <defs>\r\n       <path d=\"M 37.796875 64.3125 \r\nL 12.890625 25.390625 \r\nL 37.796875 25.390625 \r\nz\r\nM 35.203125 72.90625 \r\nL 47.609375 72.90625 \r\nL 47.609375 25.390625 \r\nL 58.015625 25.390625 \r\nL 58.015625 17.1875 \r\nL 47.609375 17.1875 \r\nL 47.609375 0 \r\nL 37.796875 0 \r\nL 37.796875 17.1875 \r\nL 4.890625 17.1875 \r\nL 4.890625 26.703125 \r\nz\r\n\" id=\"DejaVuSans-52\"/>\r\n      </defs>\r\n      <use xlink:href=\"#DejaVuSans-52\"/>\r\n     </g>\r\n    </g>\r\n   </g>\r\n   <g id=\"text_6\">\r\n    <g clip-path=\"url(#p9896567ef0)\">\r\n     <!-- 5 -->\r\n     <g transform=\"translate(388.677795 217.946772)scale(0.12 -0.12)\">\r\n      <defs>\r\n       <path d=\"M 10.796875 72.90625 \r\nL 49.515625 72.90625 \r\nL 49.515625 64.59375 \r\nL 19.828125 64.59375 \r\nL 19.828125 46.734375 \r\nQ 21.96875 47.46875 24.109375 47.828125 \r\nQ 26.265625 48.1875 28.421875 48.1875 \r\nQ 40.625 48.1875 47.75 41.5 \r\nQ 54.890625 34.8125 54.890625 23.390625 \r\nQ 54.890625 11.625 47.5625 5.09375 \r\nQ 40.234375 -1.421875 26.90625 -1.421875 \r\nQ 22.3125 -1.421875 17.546875 -0.640625 \r\nQ 12.796875 0.140625 7.71875 1.703125 \r\nL 7.71875 11.625 \r\nQ 12.109375 9.234375 16.796875 8.0625 \r\nQ 21.484375 6.890625 26.703125 6.890625 \r\nQ 35.15625 6.890625 40.078125 11.328125 \r\nQ 45.015625 15.765625 45.015625 23.390625 \r\nQ 45.015625 31 40.078125 35.4375 \r\nQ 35.15625 39.890625 26.703125 39.890625 \r\nQ 22.75 39.890625 18.8125 39.015625 \r\nQ 14.890625 38.140625 10.796875 36.28125 \r\nz\r\n\" id=\"DejaVuSans-53\"/>\r\n      </defs>\r\n      <use xlink:href=\"#DejaVuSans-53\"/>\r\n     </g>\r\n    </g>\r\n   </g>\r\n   <g id=\"text_7\">\r\n    <g clip-path=\"url(#p9896567ef0)\">\r\n     <!-- 6 -->\r\n     <g transform=\"translate(397.894897 226.67333)scale(0.12 -0.12)\">\r\n      <defs>\r\n       <path d=\"M 33.015625 40.375 \r\nQ 26.375 40.375 22.484375 35.828125 \r\nQ 18.609375 31.296875 18.609375 23.390625 \r\nQ 18.609375 15.53125 22.484375 10.953125 \r\nQ 26.375 6.390625 33.015625 6.390625 \r\nQ 39.65625 6.390625 43.53125 10.953125 \r\nQ 47.40625 15.53125 47.40625 23.390625 \r\nQ 47.40625 31.296875 43.53125 35.828125 \r\nQ 39.65625 40.375 33.015625 40.375 \r\nz\r\nM 52.59375 71.296875 \r\nL 52.59375 62.3125 \r\nQ 48.875 64.0625 45.09375 64.984375 \r\nQ 41.3125 65.921875 37.59375 65.921875 \r\nQ 27.828125 65.921875 22.671875 59.328125 \r\nQ 17.53125 52.734375 16.796875 39.40625 \r\nQ 19.671875 43.65625 24.015625 45.921875 \r\nQ 28.375 48.1875 33.59375 48.1875 \r\nQ 44.578125 48.1875 50.953125 41.515625 \r\nQ 57.328125 34.859375 57.328125 23.390625 \r\nQ 57.328125 12.15625 50.6875 5.359375 \r\nQ 44.046875 -1.421875 33.015625 -1.421875 \r\nQ 20.359375 -1.421875 13.671875 8.265625 \r\nQ 6.984375 17.96875 6.984375 36.375 \r\nQ 6.984375 53.65625 15.1875 63.9375 \r\nQ 23.390625 74.21875 37.203125 74.21875 \r\nQ 40.921875 74.21875 44.703125 73.484375 \r\nQ 48.484375 72.75 52.59375 71.296875 \r\nz\r\n\" id=\"DejaVuSans-54\"/>\r\n      </defs>\r\n      <use xlink:href=\"#DejaVuSans-54\"/>\r\n     </g>\r\n    </g>\r\n   </g>\r\n   <g id=\"text_8\">\r\n    <g clip-path=\"url(#p9896567ef0)\">\r\n     <!-- 7 -->\r\n     <g transform=\"translate(374.760008 221.577881)scale(0.12 -0.12)\">\r\n      <defs>\r\n       <path d=\"M 8.203125 72.90625 \r\nL 55.078125 72.90625 \r\nL 55.078125 68.703125 \r\nL 28.609375 0 \r\nL 18.3125 0 \r\nL 43.21875 64.59375 \r\nL 8.203125 64.59375 \r\nz\r\n\" id=\"DejaVuSans-55\"/>\r\n      </defs>\r\n      <use xlink:href=\"#DejaVuSans-55\"/>\r\n     </g>\r\n    </g>\r\n   </g>\r\n   <g id=\"text_9\">\r\n    <g clip-path=\"url(#p9896567ef0)\">\r\n     <!-- 8 -->\r\n     <g transform=\"translate(40.870103 123.395235)scale(0.12 -0.12)\">\r\n      <defs>\r\n       <path d=\"M 31.78125 34.625 \r\nQ 24.75 34.625 20.71875 30.859375 \r\nQ 16.703125 27.09375 16.703125 20.515625 \r\nQ 16.703125 13.921875 20.71875 10.15625 \r\nQ 24.75 6.390625 31.78125 6.390625 \r\nQ 38.8125 6.390625 42.859375 10.171875 \r\nQ 46.921875 13.96875 46.921875 20.515625 \r\nQ 46.921875 27.09375 42.890625 30.859375 \r\nQ 38.875 34.625 31.78125 34.625 \r\nz\r\nM 21.921875 38.8125 \r\nQ 15.578125 40.375 12.03125 44.71875 \r\nQ 8.5 49.078125 8.5 55.328125 \r\nQ 8.5 64.0625 14.71875 69.140625 \r\nQ 20.953125 74.21875 31.78125 74.21875 \r\nQ 42.671875 74.21875 48.875 69.140625 \r\nQ 55.078125 64.0625 55.078125 55.328125 \r\nQ 55.078125 49.078125 51.53125 44.71875 \r\nQ 48 40.375 41.703125 38.8125 \r\nQ 48.828125 37.15625 52.796875 32.3125 \r\nQ 56.78125 27.484375 56.78125 20.515625 \r\nQ 56.78125 9.90625 50.3125 4.234375 \r\nQ 43.84375 -1.421875 31.78125 -1.421875 \r\nQ 19.734375 -1.421875 13.25 4.234375 \r\nQ 6.78125 9.90625 6.78125 20.515625 \r\nQ 6.78125 27.484375 10.78125 32.3125 \r\nQ 14.796875 37.15625 21.921875 38.8125 \r\nz\r\nM 18.3125 54.390625 \r\nQ 18.3125 48.734375 21.84375 45.5625 \r\nQ 25.390625 42.390625 31.78125 42.390625 \r\nQ 38.140625 42.390625 41.71875 45.5625 \r\nQ 45.3125 48.734375 45.3125 54.390625 \r\nQ 45.3125 60.0625 41.71875 63.234375 \r\nQ 38.140625 66.40625 31.78125 66.40625 \r\nQ 25.390625 66.40625 21.84375 63.234375 \r\nQ 18.3125 60.0625 18.3125 54.390625 \r\nz\r\n\" id=\"DejaVuSans-56\"/>\r\n      </defs>\r\n      <use xlink:href=\"#DejaVuSans-56\"/>\r\n     </g>\r\n    </g>\r\n   </g>\r\n   <g id=\"text_10\">\r\n    <g clip-path=\"url(#p9896567ef0)\">\r\n     <!-- 9 -->\r\n     <g transform=\"translate(58.591345 114.690115)scale(0.12 -0.12)\">\r\n      <defs>\r\n       <path d=\"M 10.984375 1.515625 \r\nL 10.984375 10.5 \r\nQ 14.703125 8.734375 18.5 7.8125 \r\nQ 22.3125 6.890625 25.984375 6.890625 \r\nQ 35.75 6.890625 40.890625 13.453125 \r\nQ 46.046875 20.015625 46.78125 33.40625 \r\nQ 43.953125 29.203125 39.59375 26.953125 \r\nQ 35.25 24.703125 29.984375 24.703125 \r\nQ 19.046875 24.703125 12.671875 31.3125 \r\nQ 6.296875 37.9375 6.296875 49.421875 \r\nQ 6.296875 60.640625 12.9375 67.421875 \r\nQ 19.578125 74.21875 30.609375 74.21875 \r\nQ 43.265625 74.21875 49.921875 64.515625 \r\nQ 56.59375 54.828125 56.59375 36.375 \r\nQ 56.59375 19.140625 48.40625 8.859375 \r\nQ 40.234375 -1.421875 26.421875 -1.421875 \r\nQ 22.703125 -1.421875 18.890625 -0.6875 \r\nQ 15.09375 0.046875 10.984375 1.515625 \r\nz\r\nM 30.609375 32.421875 \r\nQ 37.25 32.421875 41.125 36.953125 \r\nQ 45.015625 41.5 45.015625 49.421875 \r\nQ 45.015625 57.28125 41.125 61.84375 \r\nQ 37.25 66.40625 30.609375 66.40625 \r\nQ 23.96875 66.40625 20.09375 61.84375 \r\nQ 16.21875 57.28125 16.21875 49.421875 \r\nQ 16.21875 41.5 20.09375 36.953125 \r\nQ 23.96875 32.421875 30.609375 32.421875 \r\nz\r\n\" id=\"DejaVuSans-57\"/>\r\n      </defs>\r\n      <use xlink:href=\"#DejaVuSans-57\"/>\r\n     </g>\r\n    </g>\r\n   </g>\r\n   <g id=\"text_11\">\r\n    <g clip-path=\"url(#p9896567ef0)\">\r\n     <!-- 10 -->\r\n     <g transform=\"translate(59.968311 126.848377)scale(0.12 -0.12)\">\r\n      <use xlink:href=\"#DejaVuSans-49\"/>\r\n      <use x=\"63.623047\" xlink:href=\"#DejaVuSans-48\"/>\r\n     </g>\r\n    </g>\r\n   </g>\r\n   <g id=\"text_12\">\r\n    <g clip-path=\"url(#p9896567ef0)\">\r\n     <!-- 11 -->\r\n     <g transform=\"translate(78.485497 118.776403)scale(0.12 -0.12)\">\r\n      <use xlink:href=\"#DejaVuSans-49\"/>\r\n      <use x=\"63.623047\" xlink:href=\"#DejaVuSans-49\"/>\r\n     </g>\r\n    </g>\r\n   </g>\r\n   <g id=\"text_13\">\r\n    <g clip-path=\"url(#p9896567ef0)\">\r\n     <!-- 12 -->\r\n     <g transform=\"translate(211.38595 35.502986)scale(0.12 -0.12)\">\r\n      <use xlink:href=\"#DejaVuSans-49\"/>\r\n      <use x=\"63.623047\" xlink:href=\"#DejaVuSans-50\"/>\r\n     </g>\r\n    </g>\r\n   </g>\r\n   <g id=\"text_14\">\r\n    <g clip-path=\"url(#p9896567ef0)\">\r\n     <!-- 13 -->\r\n     <g transform=\"translate(235.350165 38.565224)scale(0.12 -0.12)\">\r\n      <use xlink:href=\"#DejaVuSans-49\"/>\r\n      <use x=\"63.623047\" xlink:href=\"#DejaVuSans-51\"/>\r\n     </g>\r\n    </g>\r\n   </g>\r\n   <g id=\"text_15\">\r\n    <g clip-path=\"url(#p9896567ef0)\">\r\n     <!-- 14 -->\r\n     <g transform=\"translate(222.282474 46.380423)scale(0.12 -0.12)\">\r\n      <use xlink:href=\"#DejaVuSans-49\"/>\r\n      <use x=\"63.623047\" xlink:href=\"#DejaVuSans-52\"/>\r\n     </g>\r\n    </g>\r\n   </g>\r\n   <g id=\"text_16\">\r\n    <g clip-path=\"url(#p9896567ef0)\">\r\n     <!-- 15 -->\r\n     <g transform=\"translate(238.38552 55.561753)scale(0.12 -0.12)\">\r\n      <use xlink:href=\"#DejaVuSans-49\"/>\r\n      <use x=\"63.623047\" xlink:href=\"#DejaVuSans-53\"/>\r\n     </g>\r\n    </g>\r\n   </g>\r\n  </g>\r\n </g>\r\n <defs>\r\n  <clipPath id=\"p9896567ef0\">\r\n   <rect height=\"288\" width=\"432\" x=\"7.2\" y=\"7.2\"/>\r\n  </clipPath>\r\n </defs>\r\n</svg>\r\n",
      "image/png": "[encoded data removed]"
     },
     "metadata": {}
    }
   ],
   "source": [
    "import networkx as nx\n",
    "import matplotlib.pyplot as plt\n",
    "\n",
    "nx.draw(X[6].to_networkx(), with_labels=True)\n",
    "plt.show()"
   ]
  },
  {
   "cell_type": "code",
   "execution_count": 19,
   "metadata": {},
   "outputs": [
    {
     "output_type": "stream",
     "name": "stdout",
     "text": [
      "tensor([[1, 1],\n        [1, 1],\n        [0, 0],\n        [1, 1],\n        [1, 1],\n        [1, 1],\n        [0, 0],\n        [1, 1],\n        [1, 1],\n        [1, 1],\n        [0, 0],\n        [1, 1],\n        [1, 1],\n        [1, 1],\n        [0, 0],\n        [1, 1]], dtype=torch.uint8)\ntensor([[152.4600,   8.9400],\n        [369.3800,  13.1700],\n        [350.2800,   8.8100],\n        [397.5200,   8.9300],\n        [151.5000,   8.9400],\n        [367.9200,  13.1700],\n        [349.3100,   8.8100],\n        [396.5900,   8.9300],\n        [150.5400,   8.9300],\n        [366.4700,  13.1800],\n        [348.3400,   8.8100],\n        [395.6500,   8.9200],\n        [149.5700,   8.9300],\n        [365.0100,  13.1800],\n        [347.3900,   8.8000],\n        [394.7100,   8.9100]])\ntensor([[350.2800,   8.8100],\n        [349.3100,   8.8100],\n        [348.3400,   8.8100],\n        [347.3900,   8.8000]])\n"
     ]
    }
   ],
   "source": [
    "output = torch.ones((1, 16, 2))\n",
    "predict = output[0,X[-1].ndata['mask']==0].view(-1,2)\n",
    "truth = Y[0].ndata['feature'][X[-1].ndata['mask']==0].view(-1,2)\n",
    "print(X[-1].ndata['mask'])\n",
    "print(Y[0].ndata['feature'])\n",
    "print(truth)"
   ]
  },
  {
   "cell_type": "code",
   "execution_count": 21,
   "metadata": {},
   "outputs": [
    {
     "output_type": "stream",
     "name": "stdout",
     "text": [
      "tensor(1.)\ntensor(1.)\ntensor(1.)\ntensor(1.)\ntensor(1.)\ntensor(1.)\ntensor(1.)\ntensor(1.)\ntensor(1.)\ntensor(1.)\n"
     ]
    }
   ],
   "source": [
    "aa = torch.ones((10))\n",
    "for i in aa:\n",
    "    print(i)"
   ]
  },
  {
   "cell_type": "code",
   "execution_count": 19,
   "metadata": {},
   "outputs": [
    {
     "output_type": "execute_result",
     "data": {
      "text/plain": [
       "2"
      ]
     },
     "metadata": {},
     "execution_count": 19
    }
   ],
   "source": [
    "X = X[0,...]\n",
    "Y = Y[0,...]\n",
    "\n",
    "mask = torch.ones_like(X,dtype=torch.uint8)\n",
    "rand_pos = np.random.randint(mask.shape[1])\n",
    "mask[9,rand_pos,:]=0\n",
    "\n",
    "rand_pos"
   ]
  },
  {
   "cell_type": "code",
   "execution_count": 20,
   "metadata": {},
   "outputs": [],
   "source": [
    "output = model(graph, X*mask)"
   ]
  },
  {
   "cell_type": "code",
   "execution_count": 21,
   "metadata": {},
   "outputs": [
    {
     "output_type": "execute_result",
     "data": {
      "text/plain": [
       "tensor([[[ 3.0515e+02,  6.9633e+00, -2.8576e+01,  2.8320e-02],\n",
       "         [ 3.6686e+02,  8.2135e+00, -2.6156e+01,  7.7922e-03],\n",
       "         [ 3.6660e+02,  8.1985e+00, -2.6116e+01,  5.1667e-03],\n",
       "         [ 3.0515e+02,  6.9633e+00, -2.8576e+01,  2.8320e-02]]],\n",
       "       grad_fn=<StackBackward>)"
      ]
     },
     "metadata": {},
     "execution_count": 21
    }
   ],
   "source": [
    "output"
   ]
  },
  {
   "cell_type": "code",
   "execution_count": 22,
   "metadata": {},
   "outputs": [
    {
     "output_type": "execute_result",
     "data": {
      "text/plain": [
       "tensor([[[ 1.4957e+02,  8.9300e+00, -2.3920e+01, -5.0000e-02],\n",
       "         [ 3.6501e+02,  1.3180e+01, -3.6310e+01,  1.0000e-01],\n",
       "         [ 3.4739e+02,  8.8000e+00, -2.3660e+01, -8.0000e-02],\n",
       "         [ 3.9471e+02,  8.9100e+00, -2.3060e+01, -1.3000e-01]]])"
      ]
     },
     "metadata": {},
     "execution_count": 22
    }
   ],
   "source": [
    "Y"
   ]
  },
  {
   "cell_type": "code",
   "execution_count": 25,
   "metadata": {},
   "outputs": [],
   "source": [
    "os.mkdir('ckpts/2021-04-02 233516_cpu/')"
   ]
  },
  {
   "cell_type": "code",
   "execution_count": 11,
   "metadata": {},
   "outputs": [
    {
     "output_type": "execute_result",
     "data": {
      "text/plain": [
       "(2, 3)"
      ]
     },
     "metadata": {},
     "execution_count": 11
    }
   ],
   "source": [
    "a=[]\n",
    "a.append(np.array([1,2,3]))\n",
    "a.append(np.array([3,4,3]))\n",
    "np.array(a).shape"
   ]
  },
  {
   "cell_type": "code",
   "execution_count": null,
   "metadata": {},
   "outputs": [],
   "source": []
  }
 ]
}