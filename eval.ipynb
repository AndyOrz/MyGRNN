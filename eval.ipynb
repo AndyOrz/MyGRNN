{
 "metadata": {
  "language_info": {
   "codemirror_mode": {
    "name": "ipython",
    "version": 3
   },
   "file_extension": ".py",
   "mimetype": "text/x-python",
   "name": "python",
   "nbconvert_exporter": "python",
   "pygments_lexer": "ipython3",
   "version": "3.6.12-final"
  },
  "orig_nbformat": 2,
  "kernelspec": {
   "name": "python3",
   "display_name": "Python 3.6.12 64-bit ('mygrnn': conda)",
   "metadata": {
    "interpreter": {
     "hash": "44704d0489c39252fbf8577b8836ba7025e4068d7cee86aa2b53bf4e93d72c37"
    }
   }
  }
 },
 "nbformat": 4,
 "nbformat_minor": 2,
 "cells": [
  {
   "cell_type": "code",
   "execution_count": 1,
   "metadata": {},
   "outputs": [
    {
     "output_type": "stream",
     "name": "stderr",
     "text": [
      "Using backend: pytorch\n"
     ]
    }
   ],
   "source": [
    "import math\n",
    "import os\n",
    "from tqdm import tqdm\n",
    "\n",
    "from ray import tune\n",
    "import numpy as np\n",
    "import torch\n",
    "import torch.optim as optim\n",
    "from torch.optim import lr_scheduler\n",
    "from torch.nn.utils import clip_grad_norm\n",
    "from torch.utils.data import random_split\n",
    "\n",
    "\n",
    "from network.model import MyModel\n",
    "from network.loss import MyLoss\n",
    "from dataset.HighD_Dataset_DGL_1graph import HighD_Dataset\n",
    "from dgl.dataloading import GraphDataLoader\n",
    "from utils.util import AverageMeter"
   ]
  },
  {
   "cell_type": "code",
   "execution_count": 5,
   "metadata": {},
   "outputs": [],
   "source": [
    "def eval(model, val_dataloader, device):\n",
    "    losses = AverageMeter()\n",
    "    model.to(device)\n",
    "    model.eval()\n",
    "    criterion = MyLoss()\n",
    "\n",
    "    with tqdm(total=len(val_dataloader),desc='Validation round') as pbar:\n",
    "        for i, (graph, X, Y, _mask) in enumerate(val_dataloader):\n",
    "            # 先不采用batch训练\n",
    "            graph = graph.to(device)\n",
    "            X = X[0,...].to(device)\n",
    "            Y = Y[0,...].to(device)\n",
    "            # mask = mask[0,...].to(device)\n",
    "            if X.shape[1]==0:\n",
    "                continue\n",
    "\n",
    "            ###### 临时！ 测试用mask\n",
    "            mask = torch.ones_like(X,dtype=torch.uint8)  #[10,N,2]\n",
    "            mask[9,np.random.randint(mask.shape[1]),:]=0\n",
    "            mask = mask.to(device)\n",
    "\n",
    "            output = model(graph, X*mask)  #[1,N,2]\n",
    "            loss = criterion(output,Y,mask)\n",
    "\n",
    "            losses.update(loss.item())\n",
    "            pbar.set_description('Loss: {:.2f}'.format(loss.item()))\n",
    "            pbar.update()\n",
    "\n",
    "    return losses.avg"
   ]
  },
  {
   "cell_type": "code",
   "execution_count": 6,
   "metadata": {},
   "outputs": [
    {
     "output_type": "stream",
     "name": "stderr",
     "text": [
      "Loss: 5.00:   0%|          | 1/25067 [00:00<1:05:11,  6.41it/s]Dataset Ready!\n",
      "Loss: 4.31: 100%|██████████| 25067/25067 [1:08:22<00:00,  6.11it/s]validation loss = 5.138872074645197\n",
      "\n"
     ]
    }
   ],
   "source": [
    "HighD_dataset = HighD_Dataset(X_len=10,X_step=1,Y_len=1,Y_step=1,diff=9,name='data_02',raw_dir='./dataset/')\n",
    "val_dataloader = GraphDataLoader(HighD_dataset, batch_size=1, shuffle=False)\n",
    "print(\"Dataset Ready!\")\n",
    "device = 'cpu'\n",
    "model = MyModel(num_feats=4, output_dim=4, hidden_size=64, num_layers=3,seq_len=10, horizon=1, device=device)\n",
    "model.load_state_dict(torch.load('ckpts/0329_testgpu/CP_epoch15_loss_2.6713295542438136.pth'))\n",
    "val_loss = eval(model, val_dataloader, device)\n",
    "print('validation loss = {}'.format(val_loss))"
   ]
  },
  {
   "cell_type": "code",
   "execution_count": 8,
   "metadata": {},
   "outputs": [],
   "source": [
    "loader = enumerate(val_dataloader)"
   ]
  },
  {
   "cell_type": "code",
   "execution_count": 10,
   "metadata": {},
   "outputs": [],
   "source": [
    "i, (graph, X, Y, _mask) = loader.__next__()"
   ]
  },
  {
   "cell_type": "code",
   "execution_count": null,
   "metadata": {},
   "outputs": [],
   "source": [
    "X = X[0,...]\n",
    "Y = Y[0,...]\n",
    "\n",
    "mask = torch.ones_like(X,dtype=torch.uint8)\n",
    "rand_pos = np.random.randint(mask.shape[1])\n",
    "mask[9,rand_pos,:]=0"
   ]
  }
 ]
}