{
 "metadata": {
  "language_info": {
   "codemirror_mode": {
    "name": "ipython",
    "version": 3
   },
   "file_extension": ".py",
   "mimetype": "text/x-python",
   "name": "python",
   "nbconvert_exporter": "python",
   "pygments_lexer": "ipython3",
   "version": "3.6.12-final"
  },
  "orig_nbformat": 2,
  "kernelspec": {
   "name": "python3",
   "display_name": "Python 3.6.12 64-bit ('mygrnn': conda)",
   "metadata": {
    "interpreter": {
     "hash": "44704d0489c39252fbf8577b8836ba7025e4068d7cee86aa2b53bf4e93d72c37"
    }
   }
  }
 },
 "nbformat": 4,
 "nbformat_minor": 2,
 "cells": [
  {
   "cell_type": "code",
   "execution_count": 1,
   "metadata": {},
   "outputs": [],
   "source": [
    "import numpy as np\n",
    "import pandas as pd"
   ]
  },
  {
   "cell_type": "code",
   "execution_count": 2,
   "metadata": {},
   "outputs": [],
   "source": [
    "df = pd.read_csv('../data/HighD/01.csv')"
   ]
  },
  {
   "cell_type": "code",
   "execution_count": 26,
   "metadata": {},
   "outputs": [
    {
     "output_type": "stream",
     "name": "stdout",
     "text": [
      "error,10305\n",
      "error,10306\n",
      "error,10307\n",
      "error,10308\n",
      "error,10309\n",
      "error,10310\n",
      "error,10311\n",
      "error,10312\n",
      "error,10313\n",
      "error,10314\n",
      "error,10315\n",
      "error,10316\n",
      "error,10317\n",
      "error,10318\n",
      "error,10319\n",
      "error,10320\n",
      "error,10321\n",
      "error,10322\n",
      "error,10323\n",
      "error,10324\n",
      "error,10325\n",
      "error,10326\n",
      "error,10327\n",
      "error,10328\n",
      "error,10329\n",
      "error,10330\n",
      "error,10331\n",
      "error,10332\n",
      "error,10333\n",
      "error,10334\n",
      "error,10335\n",
      "error,10336\n",
      "error,10337\n",
      "error,10338\n",
      "error,10339\n",
      "error,10340\n",
      "error,10341\n",
      "error,10342\n",
      "error,10343\n",
      "error,10344\n",
      "error,10345\n",
      "error,10346\n",
      "error,10347\n",
      "error,10348\n",
      "error,10349\n",
      "error,10350\n",
      "error,10351\n",
      "error,10352\n",
      "error,10353\n",
      "error,10354\n",
      "error,10355\n",
      "error,10356\n",
      "error,10357\n",
      "error,10358\n",
      "error,10359\n",
      "error,10360\n",
      "error,10361\n",
      "error,10362\n",
      "error,10363\n",
      "error,10364\n",
      "error,10365\n",
      "error,10366\n",
      "error,10367\n",
      "error,10368\n",
      "error,10369\n",
      "error,10370\n",
      "error,10371\n",
      "error,10372\n",
      "error,10373\n",
      "error,10374\n",
      "error,10375\n",
      "error,10376\n",
      "error,10377\n",
      "error,10378\n",
      "error,10379\n",
      "error,10380\n",
      "error,10381\n",
      "error,10382\n",
      "error,10383\n",
      "error,10384\n",
      "error,10385\n",
      "error,10386\n",
      "error,10387\n",
      "error,10388\n",
      "error,10389\n",
      "error,10390\n",
      "error,10391\n",
      "error,10392\n",
      "error,10393\n",
      "error,10394\n",
      "error,10395\n",
      "error,10396\n",
      "error,10397\n",
      "error,11543\n",
      "error,11544\n",
      "error,11545\n",
      "error,11546\n",
      "error,11547\n"
     ]
    }
   ],
   "source": [
    "for i in range(df['frame'].max()):\n",
    "    relative_data = sf[(df['frame'] == i+1\n",
    "    if relative_data.count[]()0]==0:\n",
    "        print()\"\"error,{}.format()i+1"
   ]
  },
  {
   "cell_type": "code",
   "execution_count": 29,
   "metadata": {},
   "outputs": [],
   "source": [
    "data = f[df['frame'] == 1."
   ]
  },
  {
   "cell_type": "code",
   "execution_count": 37,
   "metadata": {},
   "outputs": [
    {
     "output_type": "execute_result",
     "data": {
      "text/plain": [
       "5"
      ]
     },
     "metadata": {},
     "execution_count": 37
    }
   ],
   "source": [
    "x = data.iloc[2]['id']\n",
    "x"
   ]
  },
  {
   "cell_type": "code",
   "execution_count": 36,
   "metadata": {},
   "outputs": [
    {
     "output_type": "execute_result",
     "data": {
      "text/plain": [
       "precedingId         4\n",
       "followingId         0\n",
       "leftPrecedingId     0\n",
       "leftAlongsideId     0\n",
       "leftFollowingId     0\n",
       "rightPrecedingId    8\n",
       "rightAlongsideId    0\n",
       "Name: 2, dtype: object"
      ]
     },
     "metadata": {},
     "execution_count": 36
    }
   ],
   "source": [
    "data.iloc[2][10:17]"
   ]
  },
  {
   "cell_type": "code",
   "execution_count": 38,
   "metadata": {},
   "outputs": [],
   "source": [
    "xx = np.zeros((1,0))"
   ]
  },
  {
   "cell_type": "code",
   "execution_count": 39,
   "metadata": {},
   "outputs": [
    {
     "output_type": "execute_result",
     "data": {
      "text/plain": [
       "array([], shape=(1, 0), dtype=float64)"
      ]
     },
     "metadata": {},
     "execution_count": 39
    }
   ],
   "source": [
    "xx"
   ]
  },
  {
   "cell_type": "code",
   "execution_count": 51,
   "metadata": {},
   "outputs": [
    {
     "output_type": "stream",
     "name": "stderr",
     "text": [
      "Using backend: pytorch\n"
     ]
    }
   ],
   "source": [
    "import dgl"
   ]
  },
  {
   "cell_type": "code",
   "execution_count": 76,
   "metadata": {},
   "outputs": [
    {
     "output_type": "execute_result",
     "data": {
      "text/plain": [
       "tensor([[0., 1., 1., 0., 0., 0.],\n",
       "        [0., 0., 1., 0., 0., 0.],\n",
       "        [0., 0., 0., 0., 0., 0.],\n",
       "        [0., 0., 0., 0., 0., 0.],\n",
       "        [0., 0., 0., 0., 0., 0.],\n",
       "        [1., 0., 0., 0., 0., 0.]])"
      ]
     },
     "metadata": {},
     "execution_count": 76
    }
   ],
   "source": [
    "g = dgl.graph(([0, 0, 1, 5], [1, 2, 2, 0]))\n",
    "g_A = g.adj()\n",
    "adj = g_A.to_dense()\n",
    "adj"
   ]
  },
  {
   "cell_type": "code",
   "execution_count": 80,
   "metadata": {},
   "outputs": [
    {
     "output_type": "execute_result",
     "data": {
      "text/plain": [
       "torch.Size([2, 4])"
      ]
     },
     "metadata": {},
     "execution_count": 80
    }
   ],
   "source": [
    "x = g_A.coalesce().indices()\n",
    "x.shape"
   ]
  },
  {
   "cell_type": "code",
   "execution_count": 79,
   "metadata": {},
   "outputs": [
    {
     "output_type": "execute_result",
     "data": {
      "text/plain": [
       "tensor([[0, 0, 1, 9],\n",
       "        [1, 2, 2, 0]])"
      ]
     },
     "metadata": {},
     "execution_count": 79
    }
   ],
   "source": [
    "x[x==5]=9\n",
    "x"
   ]
  },
  {
   "cell_type": "code",
   "execution_count": null,
   "metadata": {},
   "outputs": [],
   "source": []
  }
 ]
}