{
 "metadata": {
  "language_info": {
   "codemirror_mode": {
    "name": "ipython",
    "version": 3
   },
   "file_extension": ".py",
   "mimetype": "text/x-python",
   "name": "python",
   "nbconvert_exporter": "python",
   "pygments_lexer": "ipython3",
   "version": "3.6.12-final"
  },
  "orig_nbformat": 2,
  "kernelspec": {
   "name": "python3",
   "display_name": "Python 3.6.12 64-bit ('mygrnn': conda)",
   "metadata": {
    "interpreter": {
     "hash": "44704d0489c39252fbf8577b8836ba7025e4068d7cee86aa2b53bf4e93d72c37"
    }
   }
  }
 },
 "nbformat": 4,
 "nbformat_minor": 2,
 "cells": [
  {
   "cell_type": "code",
   "execution_count": 2,
   "metadata": {},
   "outputs": [],
   "source": [
    "import pickle\n",
    "import numpy as np\n",
    "import pandas as pd\n",
    "import dgl\n",
    "from tqdm import tqdm"
   ]
  },
  {
   "cell_type": "code",
   "execution_count": 5,
   "metadata": {},
   "outputs": [],
   "source": [
    "class HighD_Dataset():\n",
    "    def preprocess(self,filename):\n",
    "        # 原始数据的性质\n",
    "        self.df = pd.read_csv(filename)\n",
    "        self.frames = self.df['frame'].max()\n",
    "        self.max_nodes = self.df.groupby(\"frame\").count()['id'].max()\n",
    "\n",
    "        self.graphs = []\n",
    "        self.id_maps = []\n",
    "        self.features = []\n",
    "        # for i in range(10):\n",
    "        for i in tqdm(range(self.frames)):\n",
    "            data = self.df[self.df['frame'] == i+1]\n",
    "\n",
    "            # 车辆ID要怎么分配? 每个graph中，节点都从0开始计数，再给出一个与全局ID匹配的索引表\n",
    "            id_set = set(data['id'])\n",
    "            id_map = {}\n",
    "            for idx, _id in enumerate(id_set):\n",
    "                id_map[_id] = idx\n",
    "            \n",
    "            graph = dgl.graph([])\n",
    "            graph.add_nodes(len(id_set))\n",
    "            feature = np.zeros((len(id_set), 8), dtype=np.float32)\n",
    "\n",
    "            for i in range(len(data)):\n",
    "                x = data.iloc[i]['id']\n",
    "                y = set(data.iloc[i][10:17])-{0}\n",
    "                for yy in y:\n",
    "                    graph.add_edges([id_map[x],id_map[yy]],[id_map[yy],id_map[x]])\n",
    "\n",
    "                # 数值型数据\n",
    "                feature[id_map[x], 0:7] = data.iloc[i][2:9]\n",
    "                # 类别型数据\n",
    "                feature[id_map[x], 7] = 1 if data.iloc[i][9] == 'Car' else -1\n",
    "\n",
    "            self.graphs.append(graph)\n",
    "            self.id_maps.append(list(id_set))\n",
    "            self.features.append(feature)\n",
    "        return (self.graphs,self.id_maps,self.features)"
   ]
  },
  {
   "cell_type": "code",
   "execution_count": 6,
   "metadata": {},
   "outputs": [
    {
     "output_type": "stream",
     "name": "stderr",
     "text": [
      "100%|██████████| 22539/22539 [11:25<00:00, 32.90it/s]\n"
     ]
    }
   ],
   "source": [
    "dataset = HighD_Dataset()\n",
    "\n",
    "with open(\"data_22.pkl\",'wb') as f:\n",
    "    pickle.dump(dataset.preprocess(\"../data/HighD/01.csv\"), f)"
   ]
  },
  {
   "cell_type": "code",
   "execution_count": 13,
   "metadata": {},
   "outputs": [
    {
     "output_type": "stream",
     "name": "stdout",
     "text": [
      "[519]\n[[ 4.0428e+02  9.5900e+00 -3.6470e+01 -3.6000e-01 -4.0000e-02  2.0000e-02\n   2.0000e+00  1.0000e+00]]\n"
     ]
    },
    {
     "output_type": "display_data",
     "data": {
      "text/plain": "<Figure size 432x288 with 1 Axes>",
      "image/svg+xml": "<?xml version=\"1.0\" encoding=\"utf-8\" standalone=\"no\"?>\r\n<!DOCTYPE svg PUBLIC \"-//W3C//DTD SVG 1.1//EN\"\r\n  \"http://www.w3.org/Graphics/SVG/1.1/DTD/svg11.dtd\">\r\n<!-- Created with matplotlib (https://matplotlib.org/) -->\r\n<svg height=\"302.4pt\" version=\"1.1\" viewBox=\"0 0 446.4 302.4\" width=\"446.4pt\" xmlns=\"http://www.w3.org/2000/svg\" xmlns:xlink=\"http://www.w3.org/1999/xlink\">\r\n <metadata>\r\n  <rdf:RDF xmlns:cc=\"http://creativecommons.org/ns#\" xmlns:dc=\"http://purl.org/dc/elements/1.1/\" xmlns:rdf=\"http://www.w3.org/1999/02/22-rdf-syntax-ns#\">\r\n   <cc:Work>\r\n    <dc:type rdf:resource=\"http://purl.org/dc/dcmitype/StillImage\"/>\r\n    <dc:date>2021-03-16T16:12:42.909310</dc:date>\r\n    <dc:format>image/svg+xml</dc:format>\r\n    <dc:creator>\r\n     <cc:Agent>\r\n      <dc:title>Matplotlib v3.3.4, https://matplotlib.org/</dc:title>\r\n     </cc:Agent>\r\n    </dc:creator>\r\n   </cc:Work>\r\n  </rdf:RDF>\r\n </metadata>\r\n <defs>\r\n  <style type=\"text/css\">*{stroke-linecap:butt;stroke-linejoin:round;}</style>\r\n </defs>\r\n <g id=\"figure_1\">\r\n  <g id=\"patch_1\">\r\n   <path d=\"M 0 302.4 \r\nL 446.4 302.4 \r\nL 446.4 0 \r\nL 0 0 \r\nz\r\n\" style=\"fill:#ffffff;\"/>\r\n  </g>\r\n  <g id=\"axes_1\">\r\n   <g id=\"PathCollection_1\">\r\n    <defs>\r\n     <path d=\"M 0 8.660254 \r\nC 2.296726 8.660254 4.499694 7.747755 6.123724 6.123724 \r\nC 7.747755 4.499694 8.660254 2.296726 8.660254 0 \r\nC 8.660254 -2.296726 7.747755 -4.499694 6.123724 -6.123724 \r\nC 4.499694 -7.747755 2.296726 -8.660254 0 -8.660254 \r\nC -2.296726 -8.660254 -4.499694 -7.747755 -6.123724 -6.123724 \r\nC -7.747755 -4.499694 -8.660254 -2.296726 -8.660254 0 \r\nC -8.660254 2.296726 -7.747755 4.499694 -6.123724 6.123724 \r\nC -4.499694 7.747755 -2.296726 8.660254 0 8.660254 \r\nz\r\n\" id=\"mcafa37c707\" style=\"stroke:#1f78b4;\"/>\r\n    </defs>\r\n    <g clip-path=\"url(#pa18453f6ce)\">\r\n     <use style=\"fill:#1f78b4;stroke:#1f78b4;\" x=\"223.2\" xlink:href=\"#mcafa37c707\" y=\"151.2\"/>\r\n    </g>\r\n   </g>\r\n   <g id=\"text_1\">\r\n    <g clip-path=\"url(#pa18453f6ce)\">\r\n     <!-- 0 -->\r\n     <g transform=\"translate(219.3825 154.51125)scale(0.12 -0.12)\">\r\n      <defs>\r\n       <path d=\"M 31.78125 66.40625 \r\nQ 24.171875 66.40625 20.328125 58.90625 \r\nQ 16.5 51.421875 16.5 36.375 \r\nQ 16.5 21.390625 20.328125 13.890625 \r\nQ 24.171875 6.390625 31.78125 6.390625 \r\nQ 39.453125 6.390625 43.28125 13.890625 \r\nQ 47.125 21.390625 47.125 36.375 \r\nQ 47.125 51.421875 43.28125 58.90625 \r\nQ 39.453125 66.40625 31.78125 66.40625 \r\nz\r\nM 31.78125 74.21875 \r\nQ 44.046875 74.21875 50.515625 64.515625 \r\nQ 56.984375 54.828125 56.984375 36.375 \r\nQ 56.984375 17.96875 50.515625 8.265625 \r\nQ 44.046875 -1.421875 31.78125 -1.421875 \r\nQ 19.53125 -1.421875 13.0625 8.265625 \r\nQ 6.59375 17.96875 6.59375 36.375 \r\nQ 6.59375 54.828125 13.0625 64.515625 \r\nQ 19.53125 74.21875 31.78125 74.21875 \r\nz\r\n\" id=\"DejaVuSans-48\"/>\r\n      </defs>\r\n      <use xlink:href=\"#DejaVuSans-48\"/>\r\n     </g>\r\n    </g>\r\n   </g>\r\n  </g>\r\n </g>\r\n <defs>\r\n  <clipPath id=\"pa18453f6ce\">\r\n   <rect height=\"288\" width=\"432\" x=\"7.2\" y=\"7.2\"/>\r\n  </clipPath>\r\n </defs>\r\n</svg>\r\n",
      "image/png": "[encoded data removed]"
     },
     "metadata": {}
    }
   ],
   "source": [
    "import networkx as nx\n",
    "import matplotlib.pyplot as plt\n",
    "\n",
    "with open(\"data_22.pkl\",'rb') as f:\n",
    "    (graphs, id_maps, features) = pickle.load(f)\n",
    "    g = graphs[10398]\n",
    "    print(id_maps[10398])\n",
    "    print(features[10398])\n",
    "    nx.draw(g.to_networkx(), with_labels=True)\n",
    "    plt.show()"
   ]
  },
  {
   "cell_type": "code",
   "execution_count": null,
   "metadata": {},
   "outputs": [],
   "source": []
  }
 ]
}